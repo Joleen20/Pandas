{
 "cells": [
  {
   "cell_type": "markdown",
   "metadata": {},
   "source": [
    "### Heroes Of Pymoli Data Analysis\n",
    "* Of the 1163 active players, the vast majority are male (84%). There also exists, a smaller, but notable proportion of female players (14%).\n",
    "\n",
    "* Our peak age demographic falls between 20-24 (44.8%) with secondary groups falling between 15-19 (18.60%) and 25-29 (13.4%).  \n",
    "-----"
   ]
  },
  {
   "cell_type": "markdown",
   "metadata": {},
   "source": [
    "### Note\n",
    "* Instructions have been included for each segment. You do not have to follow them exactly, but they are included to help you think through the steps."
   ]
  },
  {
   "cell_type": "code",
   "execution_count": null,
   "metadata": {},
   "outputs": [],
   "source": [
    "# Dependencies and Setup\n",
    "import pandas as pd\n",
    "import numpy as np\n",
    "\n",
    "# Read Purchasing File and store into Pandas data frame\n",
    "purchase_data = pd.read_csv(\"purchase_data.csv\")"
   ]
  },
  {
   "cell_type": "code",
   "execution_count": null,
   "metadata": {},
   "outputs": [],
   "source": [
    "type(purchase_data) \n"
   ]
  },
  {
   "cell_type": "code",
   "execution_count": null,
   "metadata": {},
   "outputs": [],
   "source": [
    "purchase_data.tail(10)"
   ]
  },
  {
   "cell_type": "code",
   "execution_count": null,
   "metadata": {},
   "outputs": [],
   "source": [
    "pd.DataFrame({\"Total Players\":\n",
    "                 [purchase_data.loc[:, [\"Gender\", \"SN\", \"Age\"]]\n",
    "                    .drop_duplicates()\n",
    "                    .count()[0]]}\n",
    "            )"
   ]
  },
  {
   "cell_type": "code",
   "execution_count": null,
   "metadata": {},
   "outputs": [],
   "source": [
    "total_players= purchase_data.loc[:, \"SN\"].drop_duplicates().count()\n",
    "total_players"
   ]
  },
  {
   "cell_type": "markdown",
   "metadata": {},
   "source": [
    "## Player Count"
   ]
  },
  {
   "cell_type": "markdown",
   "metadata": {},
   "source": [
    "* Display the total number of players\n"
   ]
  },
  {
   "cell_type": "code",
   "execution_count": null,
   "metadata": {},
   "outputs": [],
   "source": [
    "total_playerdic= {\"Total Players\": [total_player_count]}"
   ]
  },
  {
   "cell_type": "code",
   "execution_count": null,
   "metadata": {},
   "outputs": [],
   "source": [
    "pd.DataFrame(total_playerdic)"
   ]
  },
  {
   "cell_type": "markdown",
   "metadata": {},
   "source": [
    "## Purchasing Analysis (Total)"
   ]
  },
  {
   "cell_type": "markdown",
   "metadata": {},
   "source": [
    "* Run basic calculations to obtain number of unique items, average price, etc.\n",
    "\n",
    "\n",
    "* Create a summary data frame to hold the results\n",
    "\n",
    "\n",
    "* Optional: give the displayed data cleaner formatting\n",
    "\n",
    "\n",
    "* Display the summary data frame\n"
   ]
  },
  {
   "cell_type": "code",
   "execution_count": null,
   "metadata": {
    "scrolled": true
   },
   "outputs": [],
   "source": [
    "summary = (pd.DataFrame({\"Number of Unique Items\": len(purchase_data[\"Item ID\"].unique()),\n",
    "                        \"Total Revenue in USD\": [purchase_data[\"Price\"].sum()],\n",
    "                        \"Number of Purchases\": [purchase_data[\"Price\"].count()],\n",
    "                        \"Average Price in USD\": purchase_data[\"Price\"].mean()})\n",
    "                        .round(2)\n",
    "                        )\n",
    "summary"
   ]
  },
  {
   "cell_type": "markdown",
   "metadata": {},
   "source": [
    "## Gender Demographics"
   ]
  },
  {
   "cell_type": "markdown",
   "metadata": {},
   "source": [
    "* Percentage and Count of Male Players\n",
    "\n",
    "\n",
    "* Percentage and Count of Female Players\n",
    "\n",
    "\n",
    "* Percentage and Count of Other / Non-Disclosed\n",
    "\n",
    "\n"
   ]
  },
  {
   "cell_type": "code",
   "execution_count": null,
   "metadata": {},
   "outputs": [],
   "source": [
    "gender_demographics = (pd.DataFrame({\"Total Count\":\n",
    "                                    purchase_data.loc[:, ['SN',\"Gender\"]].drop_duplicates('SN')\n",
    "                                    ['Gender'].value_counts(),\n",
    "                                    \n",
    "                                    \"Percentage of Players\":\n",
    "                                    (purchase_data.loc[:,['SN', \"Gender\"]].drop_duplicates('SN')\n",
    "                                    ['Gender'].value_counts()\n",
    "                                    /total_playeres *100)}))\n",
    "                        .round(2)\n",
    "                    )\n",
    "gender_demographics\n",
    "\n",
    "\n",
    "\n",
    "\n",
    "\n",
    "\n",
    "\n"
   ]
  },
  {
   "cell_type": "code",
   "execution_count": null,
   "metadata": {},
   "outputs": [],
   "source": [
    "gender_counts = (purchase_data.loc[:, ['SN', 'Gender']]\n",
    "                .drop_duplicates('SN')\n",
    "                 ['Gender'].value_counts()\n",
    "                )\n",
    "\n",
    "gender_demographics = (pd.DataFrame({\"Total Count\": gender_count,\n",
    "                                    \"Percentages of Players\": gender_count/total_players *100})\n",
    "                    \n",
    "                       .round(2)\n",
    "                      )\n",
    "                       \n",
    "                       \n",
    "                       \n",
    "                       "
   ]
  },
  {
   "cell_type": "markdown",
   "metadata": {},
   "source": [
    "\n",
    "## Purchasing Analysis (Gender)"
   ]
  },
  {
   "cell_type": "code",
   "execution_count": null,
   "metadata": {},
   "outputs": [],
   "source": [
    "gender_data = (pd.DataFrame({\"Purchase Count\": purchase_data.groupby([\"Gender\"]).count()[\"Price\"],\n",
    "                                                \"Average Purchase Price (USD)\": purchase_data.groupby([\"Gender\"]).mean()[\"Price\"],\n",
    "                                                \"Total Purchase Value (USD)\": purchase_data.groupby([\"Gender\"]).sum()[\"Price],\n",
    "                                                \"Normalize Totals (USD)\":\n",
    "                                                purchase_data.groupby([\"Gender\"]).sum()[\"Price\"]\n",
    "                                                /gender_demographics['Total Count']})\n",
    "                                  .round(2)                                                                 \n",
    "                                                                                                                      )                                                                   \n",
    "                      gender_data                                  "
   ]
  },
  {
   "cell_type": "markdown",
   "metadata": {},
   "source": [
    "* Run basic calculations to obtain purchase count, avg. purchase price, avg. purchase total per person etc. by gender\n",
    "\n",
    "\n",
    "\n",
    "\n",
    "* Create a summary data frame to hold the results\n",
    "\n",
    "\n",
    "* Optional: give the displayed data cleaner formatting\n",
    "\n",
    "\n",
    "* Display the summary data frame"
   ]
  },
  {
   "cell_type": "code",
   "execution_count": null,
   "metadata": {},
   "outputs": [],
   "source": []
  },
  {
   "cell_type": "markdown",
   "metadata": {},
   "source": [
    "## Age Demographics"
   ]
  },
  {
   "cell_type": "markdown",
   "metadata": {},
   "source": [
    "* Establish bins for ages\n",
    "\n",
    "\n",
    "* Categorize the existing players using the age bins. Hint: use pd.cut()\n",
    "\n",
    "\n",
    "* Calculate the numbers and percentages by age group\n",
    "\n",
    "\n",
    "* Create a summary data frame to hold the results\n",
    "\n",
    "\n",
    "* Optional: round the percentage column to two decimal points\n",
    "\n",
    "\n",
    "* Display Age Demographics Table\n"
   ]
  },
  {
   "cell_type": "code",
   "execution_count": null,
   "metadata": {},
   "outputs": [],
   "source": [
    "age_bins = [0,9,14,19,24,34,39, np.inf]\n",
    "group_names = [\"<10\", \"10-14\", \"15-19\", \"20-24\", \"25-29\", \"30-34\", \"35-39\", \"40+\"]\n",
    "\n",
    "cut_GroupBy = (purchase_data.drop_duplicates('SN')\n",
    "              .groupby(pd.cut(purchase_data.drop_duplicates('SN').Age,\n",
    "                             bins = age_bins,\n",
    "                             labels = group_names)"
   ]
  },
  {
   "cell_type": "markdown",
   "metadata": {},
   "source": [
    "## Purchasing Analysis (Age)"
   ]
  },
  {
   "cell_type": "markdown",
   "metadata": {},
   "source": [
    "* Bin the purchase_data data frame by age\n",
    "\n",
    "\n",
    "* Run basic calculations to obtain purchase count, avg. purchase price, avg. purchase total per person etc. in the table below\n",
    "\n",
    "\n",
    "* Create a summary data frame to hold the results\n",
    "\n",
    "\n",
    "* Optional: give the displayed data cleaner formatting\n",
    "\n",
    "\n",
    "* Display the summary data frame"
   ]
  },
  {
   "cell_type": "code",
   "execution_count": null,
   "metadata": {},
   "outputs": [],
   "source": [
    "age_Groupby = (purchase_data\n",
    "              .assign(age_range = lambda df: pd.cut(df[\"Age\"],\n",
    "                                                  right = False\n",
    "                                                   bins = age_bins\n",
    "                                                   label=group_names))\n",
    "              .groupby('age_range')\n",
    "                   ) "
   ]
  },
  {
   "cell_type": "code",
   "execution_count": null,
   "metadata": {},
   "outputs": [],
   "source": [
    "price_age = (pd.DataFrame(data={\n",
    "    'purchase_count': age_GroupBy.count()['Price'],\n",
    "    'mean_purchase_USD': age_GroupBy.mean()['Price'],\n",
    "    'total_purchase_USD': age_GroupBy.sum()['Price'],\n",
    "    'mean_total_USD_person': age_GroupBy.sum()['Price'] / age_demo['player_totals']\n",
    "})\n",
    "             .round(2)\n",
    "\n",
    "price_age"
   ]
  },
  {
   "cell_type": "markdown",
   "metadata": {},
   "source": [
    "## Top Spenders"
   ]
  },
  {
   "cell_type": "markdown",
   "metadata": {},
   "source": [
    "* Run basic calculations to obtain the results in the table below\n",
    "\n",
    "\n",
    "* Create a summary data frame to hold the results\n",
    "\n",
    "\n",
    "* Sort the total purchase value column in descending order\n",
    "\n",
    "\n",
    "* Optional: give the displayed data cleaner formatting\n",
    "\n",
    "\n",
    "* Display a preview of the summary data frame\n",
    "\n"
   ]
  },
  {
   "cell_type": "code",
   "execution_count": null,
   "metadata": {},
   "outputs": [],
   "source": []
  },
  {
   "cell_type": "code",
   "execution_count": null,
   "metadata": {},
   "outputs": [],
   "source": [
    "top_spenders = (pd.DataFrame(data={\n",
    "        'mean_purchase_USD': (purchase_data\n",
    "                             .groupby([\"SN\"])\n",
    "                             .mean()[\"Price\"]),\n",
    "        'purchase_count': (purchase_data\n",
    "                            .groupby([\"SN\"])\n",
    "                              .count()[\"Price\"]),\n",
    "        'total_purchase_USD': (purchase_dat\n",
    "                              .groupby('SN')\n",
    "                              .sum()['Price'])\n",
    "    \n",
    "}))\n",
    "                            .round(2)\n",
    "                            .sort values('purchase_count'\n",
    "                                        ascending=False)\n",
    "        )\n",
    "top_spenders"
   ]
  },
  {
   "cell_type": "markdown",
   "metadata": {},
   "source": [
    "## Most Popular Items"
   ]
  },
  {
   "cell_type": "markdown",
   "metadata": {},
   "source": [
    "* Retrieve the Item ID, Item Name, and Item Price columns\n",
    "\n",
    "\n",
    "* Group by Item ID and Item Name. Perform calculations to obtain purchase count, item price, and total purchase value\n",
    "\n",
    "\n",
    "* Create a summary data frame to hold the results\n",
    "\n",
    "\n",
    "* Sort the purchase count column in descending order\n",
    "\n",
    "\n",
    "* Optional: give the displayed data cleaner formatting\n",
    "\n",
    "\n",
    "* Display a preview of the summary data frame\n",
    "\n"
   ]
  },
  {
   "cell_type": "code",
   "execution_count": null,
   "metadata": {},
   "outputs": [],
   "source": [
    "top_items = (purchase_data.groupby([\"Item ID, \"Item Name])\n",
    "            ['Price'].agg(['mean', 'count', 'sum'])\n",
    "                .rename({'sum': 'total_purchase_USD',\n",
    "                        'mean': 'mean_purchase_USD',\n",
    "                        'count': purchase_count'}, axis=1)\n",
    "                .sort_values('purchase_count', ascending=False)\n",
    "                .round(2)\n",
    "                         )\n",
    "top_items.head(5)"
   ]
  },
  {
   "cell_type": "markdown",
   "metadata": {},
   "source": [
    "## Most Profitable Items"
   ]
  },
  {
   "cell_type": "markdown",
   "metadata": {},
   "source": [
    "* Sort the above table by total purchase value in descending order\n",
    "\n",
    "\n",
    "* Optional: give the displayed data cleaner formatting\n",
    "\n",
    "\n",
    "* Display a preview of the data frame\n",
    "\n"
   ]
  },
  {
   "cell_type": "code",
   "execution_count": null,
   "metadata": {
    "scrolled": true
   },
   "outputs": [],
   "source": []
  },
  {
   "cell_type": "code",
   "execution_count": null,
   "metadata": {},
   "outputs": [],
   "source": []
  }
 ],
 "metadata": {
  "anaconda-cloud": {},
  "kernel_info": {
   "name": "python3"
  },
  "kernelspec": {
   "display_name": "Python 3",
   "language": "python",
   "name": "python3"
  },
  "language_info": {
   "codemirror_mode": {
    "name": "ipython",
    "version": 3
   },
   "file_extension": ".py",
   "mimetype": "text/x-python",
   "name": "python",
   "nbconvert_exporter": "python",
   "pygments_lexer": "ipython3",
   "version": "3.7.2"
  },
  "nteract": {
   "version": "0.2.0"
  }
 },
 "nbformat": 4,
 "nbformat_minor": 2
}
